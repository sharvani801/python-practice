{
 "cells": [
  {
   "cell_type": "code",
   "execution_count": 3,
   "id": "176b395e-9780-4a82-b799-7eb6dab5ec0f",
   "metadata": {},
   "outputs": [
    {
     "name": "stdin",
     "output_type": "stream",
     "text": [
      " xx\n"
     ]
    },
    {
     "name": "stdout",
     "output_type": "stream",
     "text": [
      "x\n",
      "xx\n",
      "palindrome\n"
     ]
    }
   ],
   "source": [
    "text=str(input())\n",
    "rev_text = \"\"\n",
    "for j in text:\n",
    " rev_text=j+rev_text \n",
    " print(rev_text)\n",
    "\n",
    "if text==rev_text:\n",
    "    print(\"palindrome\")\n",
    "else:\n",
    "    print(\"not palindrome\")\n",
    "\n"
   ]
  },
  {
   "cell_type": "code",
   "execution_count": 4,
   "id": "ccfd6cf4-94a4-4118-87bc-ffd10321df61",
   "metadata": {},
   "outputs": [
    {
     "name": "stdin",
     "output_type": "stream",
     "text": [
      " bca2024\n"
     ]
    },
    {
     "name": "stdout",
     "output_type": "stream",
     "text": [
      "alphabet: 3\n",
      "Digit: 4\n"
     ]
    }
   ],
   "source": [
    "text=str(input())\n",
    "digit=alphabet=0\n",
    "for i in text:\n",
    "    if i.isalpha():\n",
    "        alphabet+=1\n",
    "    elif i.isdigit():\n",
    "        digit+=1\n",
    "\n",
    "print(\"alphabet:\",alphabet)\n",
    "print(\"Digit:\",digit)"
   ]
  },
  {
   "cell_type": "code",
   "execution_count": null,
   "id": "140e2cd7-4aa0-4b56-bdf1-8c4b05b7f3ef",
   "metadata": {},
   "outputs": [],
   "source": []
  }
 ],
 "metadata": {
  "kernelspec": {
   "display_name": "Python 3 (ipykernel)",
   "language": "python",
   "name": "python3"
  },
  "language_info": {
   "codemirror_mode": {
    "name": "ipython",
    "version": 3
   },
   "file_extension": ".py",
   "mimetype": "text/x-python",
   "name": "python",
   "nbconvert_exporter": "python",
   "pygments_lexer": "ipython3",
   "version": "3.12.4"
  }
 },
 "nbformat": 4,
 "nbformat_minor": 5
}
